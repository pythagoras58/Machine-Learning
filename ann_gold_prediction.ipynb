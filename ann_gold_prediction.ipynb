{
 "cells": [
  {
   "cell_type": "markdown",
   "id": "bef08b08",
   "metadata": {},
   "source": [
    "### Gold Price Prediction"
   ]
  },
  {
   "cell_type": "code",
   "execution_count": 14,
   "id": "9715e477",
   "metadata": {},
   "outputs": [],
   "source": [
    "import pandas as pd\n",
    "import numpy as np\n",
    "from sklearn.model_selection import train_test_split\n",
    "from sklearn.preprocessing import StandardScaler\n",
    "from sklearn.preprocessing import MinMaxScaler"
   ]
  },
  {
   "cell_type": "code",
   "execution_count": 15,
   "id": "e6ca6999",
   "metadata": {},
   "outputs": [],
   "source": [
    "import tensorflow as tf\n",
    "from tensorflow import keras\n",
    "from tensorflow.keras import Sequential\n",
    "from tensorflow.keras.layers import Dense"
   ]
  },
  {
   "cell_type": "code",
   "execution_count": 16,
   "id": "a927e8c0",
   "metadata": {},
   "outputs": [],
   "source": [
    "df = pd.read_csv('data/gld_price_data.csv')"
   ]
  },
  {
   "cell_type": "code",
   "execution_count": 17,
   "id": "96ebb9ec",
   "metadata": {},
   "outputs": [
    {
     "data": {
      "text/html": [
       "<div>\n",
       "<style scoped>\n",
       "    .dataframe tbody tr th:only-of-type {\n",
       "        vertical-align: middle;\n",
       "    }\n",
       "\n",
       "    .dataframe tbody tr th {\n",
       "        vertical-align: top;\n",
       "    }\n",
       "\n",
       "    .dataframe thead th {\n",
       "        text-align: right;\n",
       "    }\n",
       "</style>\n",
       "<table border=\"1\" class=\"dataframe\">\n",
       "  <thead>\n",
       "    <tr style=\"text-align: right;\">\n",
       "      <th></th>\n",
       "      <th>Date</th>\n",
       "      <th>SPX</th>\n",
       "      <th>GLD</th>\n",
       "      <th>USO</th>\n",
       "      <th>SLV</th>\n",
       "      <th>EUR/USD</th>\n",
       "    </tr>\n",
       "  </thead>\n",
       "  <tbody>\n",
       "    <tr>\n",
       "      <th>0</th>\n",
       "      <td>01/02/08</td>\n",
       "      <td>1447.160034</td>\n",
       "      <td>84.860001</td>\n",
       "      <td>78.470001</td>\n",
       "      <td>15.180</td>\n",
       "      <td>1.471692</td>\n",
       "    </tr>\n",
       "    <tr>\n",
       "      <th>1</th>\n",
       "      <td>01/03/08</td>\n",
       "      <td>1447.160034</td>\n",
       "      <td>85.570000</td>\n",
       "      <td>78.370003</td>\n",
       "      <td>15.285</td>\n",
       "      <td>1.474491</td>\n",
       "    </tr>\n",
       "    <tr>\n",
       "      <th>2</th>\n",
       "      <td>01/04/08</td>\n",
       "      <td>1411.630005</td>\n",
       "      <td>85.129997</td>\n",
       "      <td>77.309998</td>\n",
       "      <td>15.167</td>\n",
       "      <td>1.475492</td>\n",
       "    </tr>\n",
       "    <tr>\n",
       "      <th>3</th>\n",
       "      <td>01/07/08</td>\n",
       "      <td>1416.180054</td>\n",
       "      <td>84.769997</td>\n",
       "      <td>75.500000</td>\n",
       "      <td>15.053</td>\n",
       "      <td>1.468299</td>\n",
       "    </tr>\n",
       "    <tr>\n",
       "      <th>4</th>\n",
       "      <td>01/08/08</td>\n",
       "      <td>1390.189941</td>\n",
       "      <td>86.779999</td>\n",
       "      <td>76.059998</td>\n",
       "      <td>15.590</td>\n",
       "      <td>1.557099</td>\n",
       "    </tr>\n",
       "  </tbody>\n",
       "</table>\n",
       "</div>"
      ],
      "text/plain": [
       "       Date          SPX        GLD        USO     SLV   EUR/USD\n",
       "0  01/02/08  1447.160034  84.860001  78.470001  15.180  1.471692\n",
       "1  01/03/08  1447.160034  85.570000  78.370003  15.285  1.474491\n",
       "2  01/04/08  1411.630005  85.129997  77.309998  15.167  1.475492\n",
       "3  01/07/08  1416.180054  84.769997  75.500000  15.053  1.468299\n",
       "4  01/08/08  1390.189941  86.779999  76.059998  15.590  1.557099"
      ]
     },
     "execution_count": 17,
     "metadata": {},
     "output_type": "execute_result"
    }
   ],
   "source": [
    "df.head()"
   ]
  },
  {
   "cell_type": "code",
   "execution_count": 18,
   "id": "5ea1fe35",
   "metadata": {},
   "outputs": [
    {
     "data": {
      "text/html": [
       "<div>\n",
       "<style scoped>\n",
       "    .dataframe tbody tr th:only-of-type {\n",
       "        vertical-align: middle;\n",
       "    }\n",
       "\n",
       "    .dataframe tbody tr th {\n",
       "        vertical-align: top;\n",
       "    }\n",
       "\n",
       "    .dataframe thead th {\n",
       "        text-align: right;\n",
       "    }\n",
       "</style>\n",
       "<table border=\"1\" class=\"dataframe\">\n",
       "  <thead>\n",
       "    <tr style=\"text-align: right;\">\n",
       "      <th></th>\n",
       "      <th>Date</th>\n",
       "      <th>SPX</th>\n",
       "      <th>GLD</th>\n",
       "      <th>USO</th>\n",
       "      <th>SLV</th>\n",
       "      <th>EUR/USD</th>\n",
       "    </tr>\n",
       "  </thead>\n",
       "  <tbody>\n",
       "    <tr>\n",
       "      <th>0</th>\n",
       "      <td>01/02/08</td>\n",
       "      <td>1447.160034</td>\n",
       "      <td>84.860001</td>\n",
       "      <td>78.470001</td>\n",
       "      <td>15.1800</td>\n",
       "      <td>1.471692</td>\n",
       "    </tr>\n",
       "    <tr>\n",
       "      <th>1</th>\n",
       "      <td>01/03/08</td>\n",
       "      <td>1447.160034</td>\n",
       "      <td>85.570000</td>\n",
       "      <td>78.370003</td>\n",
       "      <td>15.2850</td>\n",
       "      <td>1.474491</td>\n",
       "    </tr>\n",
       "    <tr>\n",
       "      <th>2</th>\n",
       "      <td>01/04/08</td>\n",
       "      <td>1411.630005</td>\n",
       "      <td>85.129997</td>\n",
       "      <td>77.309998</td>\n",
       "      <td>15.1670</td>\n",
       "      <td>1.475492</td>\n",
       "    </tr>\n",
       "    <tr>\n",
       "      <th>3</th>\n",
       "      <td>01/07/08</td>\n",
       "      <td>1416.180054</td>\n",
       "      <td>84.769997</td>\n",
       "      <td>75.500000</td>\n",
       "      <td>15.0530</td>\n",
       "      <td>1.468299</td>\n",
       "    </tr>\n",
       "    <tr>\n",
       "      <th>4</th>\n",
       "      <td>01/08/08</td>\n",
       "      <td>1390.189941</td>\n",
       "      <td>86.779999</td>\n",
       "      <td>76.059998</td>\n",
       "      <td>15.5900</td>\n",
       "      <td>1.557099</td>\n",
       "    </tr>\n",
       "    <tr>\n",
       "      <th>...</th>\n",
       "      <td>...</td>\n",
       "      <td>...</td>\n",
       "      <td>...</td>\n",
       "      <td>...</td>\n",
       "      <td>...</td>\n",
       "      <td>...</td>\n",
       "    </tr>\n",
       "    <tr>\n",
       "      <th>2285</th>\n",
       "      <td>05/08/18</td>\n",
       "      <td>2671.919922</td>\n",
       "      <td>124.589996</td>\n",
       "      <td>14.060000</td>\n",
       "      <td>15.5100</td>\n",
       "      <td>1.186789</td>\n",
       "    </tr>\n",
       "    <tr>\n",
       "      <th>2286</th>\n",
       "      <td>05/09/18</td>\n",
       "      <td>2697.790039</td>\n",
       "      <td>124.330002</td>\n",
       "      <td>14.370000</td>\n",
       "      <td>15.5300</td>\n",
       "      <td>1.184722</td>\n",
       "    </tr>\n",
       "    <tr>\n",
       "      <th>2287</th>\n",
       "      <td>05/10/18</td>\n",
       "      <td>2723.070068</td>\n",
       "      <td>125.180000</td>\n",
       "      <td>14.410000</td>\n",
       "      <td>15.7400</td>\n",
       "      <td>1.191753</td>\n",
       "    </tr>\n",
       "    <tr>\n",
       "      <th>2288</th>\n",
       "      <td>5/14/2018</td>\n",
       "      <td>2730.129883</td>\n",
       "      <td>124.489998</td>\n",
       "      <td>14.380000</td>\n",
       "      <td>15.5600</td>\n",
       "      <td>1.193118</td>\n",
       "    </tr>\n",
       "    <tr>\n",
       "      <th>2289</th>\n",
       "      <td>5/16/2018</td>\n",
       "      <td>2725.780029</td>\n",
       "      <td>122.543800</td>\n",
       "      <td>14.405800</td>\n",
       "      <td>15.4542</td>\n",
       "      <td>1.182033</td>\n",
       "    </tr>\n",
       "  </tbody>\n",
       "</table>\n",
       "<p>2290 rows × 6 columns</p>\n",
       "</div>"
      ],
      "text/plain": [
       "           Date          SPX         GLD        USO      SLV   EUR/USD\n",
       "0      01/02/08  1447.160034   84.860001  78.470001  15.1800  1.471692\n",
       "1      01/03/08  1447.160034   85.570000  78.370003  15.2850  1.474491\n",
       "2      01/04/08  1411.630005   85.129997  77.309998  15.1670  1.475492\n",
       "3      01/07/08  1416.180054   84.769997  75.500000  15.0530  1.468299\n",
       "4      01/08/08  1390.189941   86.779999  76.059998  15.5900  1.557099\n",
       "...         ...          ...         ...        ...      ...       ...\n",
       "2285   05/08/18  2671.919922  124.589996  14.060000  15.5100  1.186789\n",
       "2286   05/09/18  2697.790039  124.330002  14.370000  15.5300  1.184722\n",
       "2287   05/10/18  2723.070068  125.180000  14.410000  15.7400  1.191753\n",
       "2288  5/14/2018  2730.129883  124.489998  14.380000  15.5600  1.193118\n",
       "2289  5/16/2018  2725.780029  122.543800  14.405800  15.4542  1.182033\n",
       "\n",
       "[2290 rows x 6 columns]"
      ]
     },
     "execution_count": 18,
     "metadata": {},
     "output_type": "execute_result"
    }
   ],
   "source": [
    "df"
   ]
  },
  {
   "cell_type": "code",
   "execution_count": 19,
   "id": "d756620f",
   "metadata": {},
   "outputs": [],
   "source": [
    "X = df[['SPX','USO','SLV','EUR/USD']]\n",
    "Y = df['GLD']"
   ]
  },
  {
   "cell_type": "markdown",
   "id": "e831b84f",
   "metadata": {},
   "source": [
    "#### Split the data into training and testing parts\n"
   ]
  },
  {
   "cell_type": "code",
   "execution_count": 20,
   "id": "7bc40bde",
   "metadata": {},
   "outputs": [],
   "source": [
    "X_train, X_test, y_train,y_test = train_test_split(X,Y, test_size=0.2)"
   ]
  },
  {
   "cell_type": "code",
   "execution_count": 21,
   "id": "2e8ae18b",
   "metadata": {},
   "outputs": [],
   "source": [
    "# Scale the data after implementing the Neural Network\n",
    "scaler = MinMaxScaler()"
   ]
  },
  {
   "cell_type": "code",
   "execution_count": 22,
   "id": "8bc29bb4",
   "metadata": {},
   "outputs": [],
   "source": [
    "X_train_scaled = scaler.fit_transform(X_train)\n",
    "X_test_scaled = scaler.fit_transform(X_test)"
   ]
  },
  {
   "cell_type": "code",
   "execution_count": 23,
   "id": "114c688e",
   "metadata": {},
   "outputs": [],
   "source": [
    "model = Sequential()"
   ]
  },
  {
   "cell_type": "code",
   "execution_count": 24,
   "id": "42f84ca9",
   "metadata": {},
   "outputs": [],
   "source": [
    "# add different layers\n",
    "model.add(Dense(10, activation='relu', input_dim=4))\n",
    "model.add(Dense(10, activation='relu'))\n",
    "model.add(Dense(1, activation='linear'))"
   ]
  },
  {
   "cell_type": "code",
   "execution_count": 25,
   "id": "fa676d26",
   "metadata": {},
   "outputs": [],
   "source": [
    "model.compile(loss=\"mean_squared_error\", optimizer='Adam')"
   ]
  },
  {
   "cell_type": "code",
   "execution_count": 26,
   "id": "44c8c501",
   "metadata": {},
   "outputs": [
    {
     "name": "stdout",
     "output_type": "stream",
     "text": [
      "Epoch 1/50\n",
      "52/52 [==============================] - 2s 10ms/step - loss: 15422.3994 - val_loss: 15816.2021\n",
      "Epoch 2/50\n",
      "52/52 [==============================] - 0s 4ms/step - loss: 15306.3984 - val_loss: 15660.0127\n",
      "Epoch 3/50\n",
      "52/52 [==============================] - 0s 4ms/step - loss: 15089.7461 - val_loss: 15366.5596\n",
      "Epoch 4/50\n",
      "52/52 [==============================] - 0s 5ms/step - loss: 14709.8164 - val_loss: 14877.7314\n",
      "Epoch 5/50\n",
      "52/52 [==============================] - 0s 5ms/step - loss: 14117.4111 - val_loss: 14156.0205\n",
      "Epoch 6/50\n",
      "52/52 [==============================] - 0s 5ms/step - loss: 13281.3330 - val_loss: 13178.0547\n",
      "Epoch 7/50\n",
      "52/52 [==============================] - 0s 5ms/step - loss: 12190.7188 - val_loss: 11944.8994\n",
      "Epoch 8/50\n",
      "52/52 [==============================] - 0s 6ms/step - loss: 10865.9736 - val_loss: 10491.3271\n",
      "Epoch 9/50\n",
      "52/52 [==============================] - 0s 6ms/step - loss: 9352.6992 - val_loss: 8888.0977\n",
      "Epoch 10/50\n",
      "52/52 [==============================] - 0s 7ms/step - loss: 7736.7393 - val_loss: 7224.0898\n",
      "Epoch 11/50\n",
      "52/52 [==============================] - 0s 7ms/step - loss: 6120.7690 - val_loss: 5618.5815\n",
      "Epoch 12/50\n",
      "52/52 [==============================] - 0s 7ms/step - loss: 4617.0356 - val_loss: 4165.8408\n",
      "Epoch 13/50\n",
      "52/52 [==============================] - 0s 6ms/step - loss: 3323.7117 - val_loss: 2978.1094\n",
      "Epoch 14/50\n",
      "52/52 [==============================] - 0s 7ms/step - loss: 2310.3708 - val_loss: 2082.3672\n",
      "Epoch 15/50\n",
      "52/52 [==============================] - 0s 5ms/step - loss: 1588.1848 - val_loss: 1476.3584\n",
      "Epoch 16/50\n",
      "52/52 [==============================] - 0s 7ms/step - loss: 1130.2152 - val_loss: 1108.2483\n",
      "Epoch 17/50\n",
      "52/52 [==============================] - 0s 7ms/step - loss: 866.7828 - val_loss: 901.8617\n",
      "Epoch 18/50\n",
      "52/52 [==============================] - 0s 6ms/step - loss: 731.5677 - val_loss: 793.2095\n",
      "Epoch 19/50\n",
      "52/52 [==============================] - 0s 5ms/step - loss: 664.0902 - val_loss: 737.9840\n",
      "Epoch 20/50\n",
      "52/52 [==============================] - 0s 7ms/step - loss: 629.6801 - val_loss: 705.6998\n",
      "Epoch 21/50\n",
      "52/52 [==============================] - 0s 7ms/step - loss: 608.9506 - val_loss: 683.6146\n",
      "Epoch 22/50\n",
      "52/52 [==============================] - 0s 5ms/step - loss: 593.4024 - val_loss: 666.5920\n",
      "Epoch 23/50\n",
      "52/52 [==============================] - 0s 7ms/step - loss: 579.6968 - val_loss: 651.4156\n",
      "Epoch 24/50\n",
      "52/52 [==============================] - 0s 6ms/step - loss: 566.4090 - val_loss: 636.6814\n",
      "Epoch 25/50\n",
      "52/52 [==============================] - 0s 6ms/step - loss: 553.4675 - val_loss: 622.3958\n",
      "Epoch 26/50\n",
      "52/52 [==============================] - 0s 5ms/step - loss: 540.9175 - val_loss: 608.7580\n",
      "Epoch 27/50\n",
      "52/52 [==============================] - 0s 5ms/step - loss: 528.2906 - val_loss: 595.3036\n",
      "Epoch 28/50\n",
      "52/52 [==============================] - 0s 5ms/step - loss: 516.1696 - val_loss: 582.6213\n",
      "Epoch 29/50\n",
      "52/52 [==============================] - 0s 5ms/step - loss: 503.8782 - val_loss: 569.0579\n",
      "Epoch 30/50\n",
      "52/52 [==============================] - 0s 5ms/step - loss: 492.4536 - val_loss: 555.9466\n",
      "Epoch 31/50\n",
      "52/52 [==============================] - 0s 5ms/step - loss: 480.4776 - val_loss: 543.7843\n",
      "Epoch 32/50\n",
      "52/52 [==============================] - 0s 5ms/step - loss: 469.1297 - val_loss: 531.1816\n",
      "Epoch 33/50\n",
      "52/52 [==============================] - 0s 5ms/step - loss: 457.8675 - val_loss: 519.3005\n",
      "Epoch 34/50\n",
      "52/52 [==============================] - 0s 5ms/step - loss: 447.0442 - val_loss: 507.0667\n",
      "Epoch 35/50\n",
      "52/52 [==============================] - 0s 5ms/step - loss: 436.1599 - val_loss: 495.1157\n",
      "Epoch 36/50\n",
      "52/52 [==============================] - 0s 5ms/step - loss: 425.7299 - val_loss: 483.8096\n",
      "Epoch 37/50\n",
      "52/52 [==============================] - 0s 5ms/step - loss: 415.1926 - val_loss: 472.2299\n",
      "Epoch 38/50\n",
      "52/52 [==============================] - 0s 5ms/step - loss: 405.1493 - val_loss: 461.2796\n",
      "Epoch 39/50\n",
      "52/52 [==============================] - 0s 6ms/step - loss: 395.3557 - val_loss: 450.7830\n",
      "Epoch 40/50\n",
      "52/52 [==============================] - 0s 5ms/step - loss: 385.4486 - val_loss: 439.8548\n",
      "Epoch 41/50\n",
      "52/52 [==============================] - 0s 6ms/step - loss: 376.0725 - val_loss: 429.7612\n",
      "Epoch 42/50\n",
      "52/52 [==============================] - 0s 7ms/step - loss: 366.7674 - val_loss: 419.7746\n",
      "Epoch 43/50\n",
      "52/52 [==============================] - 0s 6ms/step - loss: 357.8267 - val_loss: 409.6684\n",
      "Epoch 44/50\n",
      "52/52 [==============================] - 0s 6ms/step - loss: 348.5314 - val_loss: 399.5768\n",
      "Epoch 45/50\n",
      "52/52 [==============================] - 0s 6ms/step - loss: 340.0017 - val_loss: 390.1300\n",
      "Epoch 46/50\n",
      "52/52 [==============================] - 0s 6ms/step - loss: 331.4982 - val_loss: 380.5595\n",
      "Epoch 47/50\n",
      "52/52 [==============================] - 0s 5ms/step - loss: 323.0204 - val_loss: 371.4987\n",
      "Epoch 48/50\n",
      "52/52 [==============================] - 0s 6ms/step - loss: 314.7555 - val_loss: 362.9124\n",
      "Epoch 49/50\n",
      "52/52 [==============================] - 0s 6ms/step - loss: 306.9058 - val_loss: 353.6703\n",
      "Epoch 50/50\n",
      "52/52 [==============================] - 0s 7ms/step - loss: 299.1143 - val_loss: 345.0496\n"
     ]
    }
   ],
   "source": [
    "history = model.fit(X_train_scaled, y_train, epochs=50, validation_split=0.1)"
   ]
  },
  {
   "cell_type": "code",
   "execution_count": 27,
   "id": "6ba69483",
   "metadata": {},
   "outputs": [
    {
     "name": "stdout",
     "output_type": "stream",
     "text": [
      "15/15 [==============================] - 0s 3ms/step\n"
     ]
    }
   ],
   "source": [
    "y_pred = model.predict(X_test_scaled)"
   ]
  },
  {
   "cell_type": "code",
   "execution_count": 28,
   "id": "eb59c2c4",
   "metadata": {},
   "outputs": [],
   "source": [
    "from sklearn.metrics import r2_score"
   ]
  },
  {
   "cell_type": "code",
   "execution_count": 29,
   "id": "706816e1",
   "metadata": {},
   "outputs": [
    {
     "data": {
      "text/plain": [
       "0.5251997053753985"
      ]
     },
     "execution_count": 29,
     "metadata": {},
     "output_type": "execute_result"
    }
   ],
   "source": [
    "r2_score(y_test,y_pred)"
   ]
  },
  {
   "cell_type": "code",
   "execution_count": null,
   "id": "0adaa5eb",
   "metadata": {},
   "outputs": [],
   "source": []
  }
 ],
 "metadata": {
  "kernelspec": {
   "display_name": "Python 3 (ipykernel)",
   "language": "python",
   "name": "python3"
  },
  "language_info": {
   "codemirror_mode": {
    "name": "ipython",
    "version": 3
   },
   "file_extension": ".py",
   "mimetype": "text/x-python",
   "name": "python",
   "nbconvert_exporter": "python",
   "pygments_lexer": "ipython3",
   "version": "3.10.1"
  }
 },
 "nbformat": 4,
 "nbformat_minor": 5
}
