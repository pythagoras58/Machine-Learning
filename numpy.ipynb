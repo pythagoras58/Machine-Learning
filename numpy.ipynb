{
 "cells": [
  {
   "cell_type": "code",
   "execution_count": 1,
   "id": "a63cdfcb-7a12-4092-9c41-56cd9012d63d",
   "metadata": {},
   "outputs": [],
   "source": [
    "import numpy as np"
   ]
  },
  {
   "cell_type": "code",
   "execution_count": 2,
   "id": "cb6d2be2-83e0-4ca6-9cf5-a444d53be5fd",
   "metadata": {},
   "outputs": [],
   "source": [
    "a = np.array([1,2,3,4,5])"
   ]
  },
  {
   "cell_type": "code",
   "execution_count": 3,
   "id": "37c50640-3f37-4a4b-9e0d-ea1c46dc11a1",
   "metadata": {},
   "outputs": [
    {
     "data": {
      "text/plain": [
       "(5,)"
      ]
     },
     "execution_count": 3,
     "metadata": {},
     "output_type": "execute_result"
    }
   ],
   "source": [
    "a.shape"
   ]
  },
  {
   "cell_type": "code",
   "execution_count": 4,
   "id": "6a20cbf3-31b0-4658-ac37-24a948a3ed6c",
   "metadata": {},
   "outputs": [],
   "source": [
    "b = np.array([[1,2,3,4],[5,6,7,8]])"
   ]
  },
  {
   "cell_type": "code",
   "execution_count": 5,
   "id": "9a55397a-5f60-4e24-a175-3d91118182e7",
   "metadata": {},
   "outputs": [
    {
     "data": {
      "text/plain": [
       "(2, 4)"
      ]
     },
     "execution_count": 5,
     "metadata": {},
     "output_type": "execute_result"
    }
   ],
   "source": [
    "b.shape"
   ]
  },
  {
   "cell_type": "code",
   "execution_count": 9,
   "id": "f27b6990-8317-493e-9055-d536f8c4e993",
   "metadata": {},
   "outputs": [],
   "source": [
    "c = np.array([1,2,3,4,5,6,7,8,9,10,11,12])"
   ]
  },
  {
   "cell_type": "code",
   "execution_count": 10,
   "id": "aa4ae151-c377-4fe8-9de5-af7013cec51e",
   "metadata": {},
   "outputs": [],
   "source": [
    "n_shape = c.reshape(4,3)"
   ]
  },
  {
   "cell_type": "code",
   "execution_count": 11,
   "id": "6694cb53-5abb-4a54-bfdd-2adf22e7b6f9",
   "metadata": {},
   "outputs": [
    {
     "data": {
      "text/plain": [
       "(12,)"
      ]
     },
     "execution_count": 11,
     "metadata": {},
     "output_type": "execute_result"
    }
   ],
   "source": [
    "c.shape"
   ]
  },
  {
   "cell_type": "code",
   "execution_count": 12,
   "id": "33127543-cd7b-49f5-9038-31a7cde4daa9",
   "metadata": {},
   "outputs": [
    {
     "data": {
      "text/plain": [
       "(4, 3)"
      ]
     },
     "execution_count": 12,
     "metadata": {},
     "output_type": "execute_result"
    }
   ],
   "source": [
    "n_shape.shape"
   ]
  },
  {
   "cell_type": "code",
   "execution_count": 13,
   "id": "cf62538b-6665-49c9-9177-9beca2d35118",
   "metadata": {},
   "outputs": [],
   "source": [
    "d_arr = np.array([[1,2,3,4],[5,6,7,8]])"
   ]
  },
  {
   "cell_type": "code",
   "execution_count": 14,
   "id": "80908f76-e9e3-4a6b-99a5-213524e2cc51",
   "metadata": {},
   "outputs": [],
   "source": [
    "flatten_arr = d_arr.reshape(-1)"
   ]
  },
  {
   "cell_type": "code",
   "execution_count": 15,
   "id": "66042306-c62b-4027-8bfa-5e902207cb76",
   "metadata": {},
   "outputs": [
    {
     "data": {
      "text/plain": [
       "array([1, 2, 3, 4, 5, 6, 7, 8])"
      ]
     },
     "execution_count": 15,
     "metadata": {},
     "output_type": "execute_result"
    }
   ],
   "source": [
    "flatten_arr"
   ]
  },
  {
   "cell_type": "code",
   "execution_count": 17,
   "id": "53e338ed-9419-4f78-8d44-fced93567a79",
   "metadata": {},
   "outputs": [
    {
     "name": "stdout",
     "output_type": "stream",
     "text": [
      "1\n"
     ]
    }
   ],
   "source": [
    "# Array Indexing\n",
    "f = np.array([1,2,3,4,5])\n",
    "print(f[0])"
   ]
  },
  {
   "cell_type": "code",
   "execution_count": 18,
   "id": "75edda8c-46ba-450c-a33b-155dbdc0fe3c",
   "metadata": {},
   "outputs": [],
   "source": [
    "e = np.array([[1,2,3,4,5], [6,7,8,9,10]])"
   ]
  },
  {
   "cell_type": "code",
   "execution_count": 20,
   "id": "5adc4999-a5af-40c3-bf35-9d87917b0cdb",
   "metadata": {},
   "outputs": [
    {
     "data": {
      "text/plain": [
       "array([[ 1,  2,  3,  4,  5],\n",
       "       [ 6,  7,  8,  9, 10]])"
      ]
     },
     "execution_count": 20,
     "metadata": {},
     "output_type": "execute_result"
    }
   ],
   "source": [
    "e"
   ]
  },
  {
   "cell_type": "code",
   "execution_count": 21,
   "id": "c8c6c2e9-26e9-400c-a3cf-19cb15e08348",
   "metadata": {},
   "outputs": [
    {
     "name": "stdout",
     "output_type": "stream",
     "text": [
      "10\n"
     ]
    }
   ],
   "source": [
    "print(e[1,4])"
   ]
  },
  {
   "cell_type": "code",
   "execution_count": 22,
   "id": "fb62027e-6b4b-4275-a12e-6b5bb9a54099",
   "metadata": {},
   "outputs": [
    {
     "name": "stdout",
     "output_type": "stream",
     "text": [
      "1\n",
      "2\n",
      "3\n",
      "4\n",
      "5\n",
      "6\n"
     ]
    }
   ],
   "source": [
    "# Iteration\n",
    "\n",
    "arr1 = np.array([1,2,3,4,5,6])\n",
    "\n",
    "for x in arr1:\n",
    "    print(x)"
   ]
  },
  {
   "cell_type": "code",
   "execution_count": 24,
   "id": "6e99b403-7d68-4e58-8b41-8042ec9223b2",
   "metadata": {},
   "outputs": [
    {
     "name": "stdout",
     "output_type": "stream",
     "text": [
      "1\n",
      "2\n",
      "3\n",
      "4\n",
      "5\n",
      "6\n",
      "7\n",
      "8\n",
      "9\n",
      "11\n"
     ]
    }
   ],
   "source": [
    "arr2 = np.array([[1,2,3,4,5],[6,7,8,9,11]])\n",
    "\n",
    "for x in arr2:\n",
    "    for y in x:\n",
    "        print(y)"
   ]
  },
  {
   "cell_type": "code",
   "execution_count": 28,
   "id": "24aa8103-4ab4-4403-9ff4-6b75ff1ddc65",
   "metadata": {},
   "outputs": [],
   "source": [
    "# Array Slicing\n",
    "sly = np.array([1,2,3,4,5])"
   ]
  },
  {
   "cell_type": "code",
   "execution_count": 29,
   "id": "e0620950-c91d-467f-bd2f-4f9ffcd138c9",
   "metadata": {},
   "outputs": [
    {
     "data": {
      "text/plain": [
       "array([1, 2, 3, 4, 5])"
      ]
     },
     "execution_count": 29,
     "metadata": {},
     "output_type": "execute_result"
    }
   ],
   "source": [
    "sly"
   ]
  },
  {
   "cell_type": "code",
   "execution_count": 30,
   "id": "89a7c691-67d0-404e-88f4-8ccf53cf6b92",
   "metadata": {},
   "outputs": [
    {
     "data": {
      "text/plain": [
       "array([2, 3, 4])"
      ]
     },
     "execution_count": 30,
     "metadata": {},
     "output_type": "execute_result"
    }
   ],
   "source": [
    "sly[1:4]"
   ]
  },
  {
   "cell_type": "code",
   "execution_count": 31,
   "id": "d47ffc79-6d45-4c1f-881d-306f30db2565",
   "metadata": {},
   "outputs": [],
   "source": [
    "dtw_arr = np.array([[1,2,3,4,5],[6,7,8,9,11]])"
   ]
  },
  {
   "cell_type": "code",
   "execution_count": 32,
   "id": "02a3564e-0b7d-4ae2-beaf-05ca81a96ee5",
   "metadata": {},
   "outputs": [
    {
     "data": {
      "text/plain": [
       "array([7, 8, 9])"
      ]
     },
     "execution_count": 32,
     "metadata": {},
     "output_type": "execute_result"
    }
   ],
   "source": [
    "dtw_arr[1,1:4]"
   ]
  },
  {
   "cell_type": "code",
   "execution_count": 35,
   "id": "65ed36cd-c538-4467-9b5d-fec2f32025da",
   "metadata": {},
   "outputs": [],
   "source": [
    "# Searching and sorting\n",
    "ss = np.array([1,4,3,2,5])"
   ]
  },
  {
   "cell_type": "code",
   "execution_count": 36,
   "id": "7971acbf-7083-4954-a7c2-b7c848db6ba7",
   "metadata": {},
   "outputs": [
    {
     "name": "stdout",
     "output_type": "stream",
     "text": [
      "SEARCH  (array([1], dtype=int64),)\n",
      "SORT  [1 2 3 4 5]\n"
     ]
    }
   ],
   "source": [
    "search_it = np.where(ss == 4)\n",
    "print(\"SEARCH \", search_it)\n",
    "\n",
    "\n",
    "sort_it = np.sort(ss)\n",
    "print(\"SORT \", sort_it)"
   ]
  },
  {
   "cell_type": "code",
   "execution_count": null,
   "id": "e2507f35-ac53-4a20-b46b-b9eb060bb68c",
   "metadata": {},
   "outputs": [],
   "source": []
  }
 ],
 "metadata": {
  "kernelspec": {
   "display_name": "Python 3 (ipykernel)",
   "language": "python",
   "name": "python3"
  },
  "language_info": {
   "codemirror_mode": {
    "name": "ipython",
    "version": 3
   },
   "file_extension": ".py",
   "mimetype": "text/x-python",
   "name": "python",
   "nbconvert_exporter": "python",
   "pygments_lexer": "ipython3",
   "version": "3.10.1"
  },
  "toc-autonumbering": true,
  "toc-showmarkdowntxt": false
 },
 "nbformat": 4,
 "nbformat_minor": 5
}
